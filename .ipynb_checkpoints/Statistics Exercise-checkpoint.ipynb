{
 "cells": [
  {
   "cell_type": "markdown",
   "metadata": {},
   "source": [
    "# Statistics Exercise"
   ]
  },
  {
   "cell_type": "markdown",
   "metadata": {},
   "source": [
    "***"
   ]
  },
  {
   "cell_type": "markdown",
   "metadata": {},
   "source": [
    "#### import library"
   ]
  },
  {
   "cell_type": "code",
   "execution_count": 1,
   "metadata": {},
   "outputs": [],
   "source": [
    "import numpy as np\n",
    "import pandas as pd"
   ]
  },
  {
   "cell_type": "markdown",
   "metadata": {},
   "source": [
    "####  import dataset"
   ]
  },
  {
   "cell_type": "code",
   "execution_count": 3,
   "metadata": {},
   "outputs": [],
   "source": [
    "df = pd.read_excel('dataset/data loan.xlsx')"
   ]
  },
  {
   "cell_type": "markdown",
   "metadata": {},
   "source": [
    "#### split numeric and categorical data"
   ]
  },
  {
   "cell_type": "code",
   "execution_count": 4,
   "metadata": {},
   "outputs": [],
   "source": [
    "numeric_data = df.select_dtypes(include=[np.number]).columns\n",
    "categorical_data = df.select_dtypes(exclude=[np.number]).columns"
   ]
  },
  {
   "cell_type": "markdown",
   "metadata": {},
   "source": [
    "#### Copy data original "
   ]
  },
  {
   "cell_type": "code",
   "execution_count": 6,
   "metadata": {},
   "outputs": [],
   "source": [
    "import copy\n",
    "df_sample = copy.deepcopy(df)"
   ]
  },
  {
   "cell_type": "markdown",
   "metadata": {},
   "source": [
    "#### Random Samping 80%"
   ]
  },
  {
   "cell_type": "code",
   "execution_count": 7,
   "metadata": {},
   "outputs": [],
   "source": [
    "df_sample = df_sample.sample(frac=0.8,replace=True,random_state=1)"
   ]
  },
  {
   "cell_type": "code",
   "execution_count": 21,
   "metadata": {},
   "outputs": [
    {
     "name": "stdout",
     "output_type": "stream",
     "text": [
      "22634\n",
      "28293\n",
      "Sampling: 0.80\n"
     ]
    }
   ],
   "source": [
    "print(len(df_sample))\n",
    "print(len(df))\n",
    "print('Sampling: %.2f' %(len(df_sample)/len(df)))"
   ]
  },
  {
   "cell_type": "code",
   "execution_count": 22,
   "metadata": {},
   "outputs": [
    {
     "data": {
      "text/html": [
       "<div>\n",
       "<style scoped>\n",
       "    .dataframe tbody tr th:only-of-type {\n",
       "        vertical-align: middle;\n",
       "    }\n",
       "\n",
       "    .dataframe tbody tr th {\n",
       "        vertical-align: top;\n",
       "    }\n",
       "\n",
       "    .dataframe thead th {\n",
       "        text-align: right;\n",
       "    }\n",
       "</style>\n",
       "<table border=\"1\" class=\"dataframe\">\n",
       "  <thead>\n",
       "    <tr style=\"text-align: right;\">\n",
       "      <th></th>\n",
       "      <th>Kontrak</th>\n",
       "      <th>Tenor</th>\n",
       "      <th>Total_AR</th>\n",
       "      <th>LTV</th>\n",
       "      <th>OTR</th>\n",
       "      <th>Age</th>\n",
       "      <th>Interest_Rate</th>\n",
       "      <th>Income</th>\n",
       "      <th>DP</th>\n",
       "      <th>AF</th>\n",
       "      <th>Inflasi</th>\n",
       "    </tr>\n",
       "  </thead>\n",
       "  <tbody>\n",
       "    <tr>\n",
       "      <th>count</th>\n",
       "      <td>22634.000000</td>\n",
       "      <td>22634.000000</td>\n",
       "      <td>22634.000000</td>\n",
       "      <td>22634.000000</td>\n",
       "      <td>22634.000000</td>\n",
       "      <td>22634.000000</td>\n",
       "      <td>22634.000000</td>\n",
       "      <td>22634.000000</td>\n",
       "      <td>22634.000000</td>\n",
       "      <td>22634.000000</td>\n",
       "      <td>22634.000000</td>\n",
       "    </tr>\n",
       "    <tr>\n",
       "      <th>mean</th>\n",
       "      <td>14146.005125</td>\n",
       "      <td>45.109481</td>\n",
       "      <td>214.801549</td>\n",
       "      <td>81.216664</td>\n",
       "      <td>204.270501</td>\n",
       "      <td>40.696430</td>\n",
       "      <td>13.728122</td>\n",
       "      <td>21.132588</td>\n",
       "      <td>58.990148</td>\n",
       "      <td>163.573318</td>\n",
       "      <td>5.528807</td>\n",
       "    </tr>\n",
       "    <tr>\n",
       "      <th>std</th>\n",
       "      <td>8182.461349</td>\n",
       "      <td>13.286671</td>\n",
       "      <td>88.836166</td>\n",
       "      <td>14.881962</td>\n",
       "      <td>81.043046</td>\n",
       "      <td>9.585496</td>\n",
       "      <td>3.528004</td>\n",
       "      <td>126.856303</td>\n",
       "      <td>41.307736</td>\n",
       "      <td>64.536664</td>\n",
       "      <td>1.796869</td>\n",
       "    </tr>\n",
       "    <tr>\n",
       "      <th>min</th>\n",
       "      <td>2.000000</td>\n",
       "      <td>12.000000</td>\n",
       "      <td>2.472000</td>\n",
       "      <td>10.000000</td>\n",
       "      <td>2.370000</td>\n",
       "      <td>19.000000</td>\n",
       "      <td>0.000000</td>\n",
       "      <td>1.000000</td>\n",
       "      <td>0.000000</td>\n",
       "      <td>2.470000</td>\n",
       "      <td>3.210000</td>\n",
       "    </tr>\n",
       "    <tr>\n",
       "      <th>25%</th>\n",
       "      <td>7114.000000</td>\n",
       "      <td>36.000000</td>\n",
       "      <td>155.703215</td>\n",
       "      <td>77.840000</td>\n",
       "      <td>157.627500</td>\n",
       "      <td>34.000000</td>\n",
       "      <td>11.180000</td>\n",
       "      <td>9.000000</td>\n",
       "      <td>37.580000</td>\n",
       "      <td>122.580000</td>\n",
       "      <td>3.830000</td>\n",
       "    </tr>\n",
       "    <tr>\n",
       "      <th>50%</th>\n",
       "      <td>14137.000000</td>\n",
       "      <td>48.000000</td>\n",
       "      <td>201.334847</td>\n",
       "      <td>83.690000</td>\n",
       "      <td>187.150000</td>\n",
       "      <td>40.000000</td>\n",
       "      <td>13.450000</td>\n",
       "      <td>15.000000</td>\n",
       "      <td>47.670000</td>\n",
       "      <td>152.995000</td>\n",
       "      <td>5.310000</td>\n",
       "    </tr>\n",
       "    <tr>\n",
       "      <th>75%</th>\n",
       "      <td>21244.250000</td>\n",
       "      <td>60.000000</td>\n",
       "      <td>266.434346</td>\n",
       "      <td>89.380000</td>\n",
       "      <td>230.465000</td>\n",
       "      <td>48.000000</td>\n",
       "      <td>16.210000</td>\n",
       "      <td>20.000000</td>\n",
       "      <td>67.710000</td>\n",
       "      <td>193.700000</td>\n",
       "      <td>7.250000</td>\n",
       "    </tr>\n",
       "    <tr>\n",
       "      <th>max</th>\n",
       "      <td>28292.000000</td>\n",
       "      <td>60.000000</td>\n",
       "      <td>1854.341300</td>\n",
       "      <td>111.830000</td>\n",
       "      <td>1508.400000</td>\n",
       "      <td>82.000000</td>\n",
       "      <td>27.400000</td>\n",
       "      <td>10000.000000</td>\n",
       "      <td>721.350000</td>\n",
       "      <td>1312.810000</td>\n",
       "      <td>8.790000</td>\n",
       "    </tr>\n",
       "  </tbody>\n",
       "</table>\n",
       "</div>"
      ],
      "text/plain": [
       "            Kontrak         Tenor      Total_AR           LTV           OTR  \\\n",
       "count  22634.000000  22634.000000  22634.000000  22634.000000  22634.000000   \n",
       "mean   14146.005125     45.109481    214.801549     81.216664    204.270501   \n",
       "std     8182.461349     13.286671     88.836166     14.881962     81.043046   \n",
       "min        2.000000     12.000000      2.472000     10.000000      2.370000   \n",
       "25%     7114.000000     36.000000    155.703215     77.840000    157.627500   \n",
       "50%    14137.000000     48.000000    201.334847     83.690000    187.150000   \n",
       "75%    21244.250000     60.000000    266.434346     89.380000    230.465000   \n",
       "max    28292.000000     60.000000   1854.341300    111.830000   1508.400000   \n",
       "\n",
       "                Age  Interest_Rate        Income            DP            AF  \\\n",
       "count  22634.000000   22634.000000  22634.000000  22634.000000  22634.000000   \n",
       "mean      40.696430      13.728122     21.132588     58.990148    163.573318   \n",
       "std        9.585496       3.528004    126.856303     41.307736     64.536664   \n",
       "min       19.000000       0.000000      1.000000      0.000000      2.470000   \n",
       "25%       34.000000      11.180000      9.000000     37.580000    122.580000   \n",
       "50%       40.000000      13.450000     15.000000     47.670000    152.995000   \n",
       "75%       48.000000      16.210000     20.000000     67.710000    193.700000   \n",
       "max       82.000000      27.400000  10000.000000    721.350000   1312.810000   \n",
       "\n",
       "            Inflasi  \n",
       "count  22634.000000  \n",
       "mean       5.528807  \n",
       "std        1.796869  \n",
       "min        3.210000  \n",
       "25%        3.830000  \n",
       "50%        5.310000  \n",
       "75%        7.250000  \n",
       "max        8.790000  "
      ]
     },
     "execution_count": 22,
     "metadata": {},
     "output_type": "execute_result"
    }
   ],
   "source": [
    "df_sample.describe()"
   ]
  },
  {
   "cell_type": "code",
   "execution_count": 24,
   "metadata": {},
   "outputs": [
    {
     "data": {
      "text/html": [
       "<div>\n",
       "<style scoped>\n",
       "    .dataframe tbody tr th:only-of-type {\n",
       "        vertical-align: middle;\n",
       "    }\n",
       "\n",
       "    .dataframe tbody tr th {\n",
       "        vertical-align: top;\n",
       "    }\n",
       "\n",
       "    .dataframe thead th {\n",
       "        text-align: right;\n",
       "    }\n",
       "</style>\n",
       "<table border=\"1\" class=\"dataframe\">\n",
       "  <thead>\n",
       "    <tr style=\"text-align: right;\">\n",
       "      <th></th>\n",
       "      <th>Tipe_Kendaraan</th>\n",
       "      <th>Pekerjaan</th>\n",
       "      <th>Area</th>\n",
       "      <th>Bucket_Collectability</th>\n",
       "      <th>NPF</th>\n",
       "      <th>Tujuan</th>\n",
       "      <th>Pendidikan</th>\n",
       "      <th>Tanggungan</th>\n",
       "      <th>Status</th>\n",
       "      <th>Gender</th>\n",
       "      <th>Paket</th>\n",
       "      <th>Segmen</th>\n",
       "    </tr>\n",
       "  </thead>\n",
       "  <tbody>\n",
       "    <tr>\n",
       "      <th>count</th>\n",
       "      <td>22634</td>\n",
       "      <td>22634</td>\n",
       "      <td>22634</td>\n",
       "      <td>22634</td>\n",
       "      <td>22634</td>\n",
       "      <td>22634</td>\n",
       "      <td>22634</td>\n",
       "      <td>22634</td>\n",
       "      <td>22634</td>\n",
       "      <td>22634</td>\n",
       "      <td>22634</td>\n",
       "      <td>22634</td>\n",
       "    </tr>\n",
       "    <tr>\n",
       "      <th>unique</th>\n",
       "      <td>4</td>\n",
       "      <td>3</td>\n",
       "      <td>3</td>\n",
       "      <td>5</td>\n",
       "      <td>2</td>\n",
       "      <td>2</td>\n",
       "      <td>2</td>\n",
       "      <td>2</td>\n",
       "      <td>2</td>\n",
       "      <td>2</td>\n",
       "      <td>2</td>\n",
       "      <td>2</td>\n",
       "    </tr>\n",
       "    <tr>\n",
       "      <th>top</th>\n",
       "      <td>MINIBUS</td>\n",
       "      <td>Karyawan</td>\n",
       "      <td>Jawa</td>\n",
       "      <td>0 - 30 hari</td>\n",
       "      <td>Tidak</td>\n",
       "      <td>Private</td>\n",
       "      <td>Others</td>\n",
       "      <td>Tidak ada</td>\n",
       "      <td>OTHERS</td>\n",
       "      <td>Laki-laki</td>\n",
       "      <td>Tidak</td>\n",
       "      <td>Jasa &amp; Perdagangan</td>\n",
       "    </tr>\n",
       "    <tr>\n",
       "      <th>freq</th>\n",
       "      <td>11546</td>\n",
       "      <td>11022</td>\n",
       "      <td>12621</td>\n",
       "      <td>9984</td>\n",
       "      <td>11564</td>\n",
       "      <td>19977</td>\n",
       "      <td>12909</td>\n",
       "      <td>12543</td>\n",
       "      <td>11417</td>\n",
       "      <td>16831</td>\n",
       "      <td>12665</td>\n",
       "      <td>12849</td>\n",
       "    </tr>\n",
       "  </tbody>\n",
       "</table>\n",
       "</div>"
      ],
      "text/plain": [
       "       Tipe_Kendaraan Pekerjaan   Area Bucket_Collectability    NPF   Tujuan  \\\n",
       "count           22634     22634  22634                 22634  22634    22634   \n",
       "unique              4         3      3                     5      2        2   \n",
       "top           MINIBUS  Karyawan   Jawa           0 - 30 hari  Tidak  Private   \n",
       "freq            11546     11022  12621                  9984  11564    19977   \n",
       "\n",
       "       Pendidikan Tanggungan  Status     Gender  Paket              Segmen  \n",
       "count       22634      22634   22634      22634  22634               22634  \n",
       "unique          2          2       2          2      2                   2  \n",
       "top        Others  Tidak ada  OTHERS  Laki-laki  Tidak  Jasa & Perdagangan  \n",
       "freq        12909      12543   11417      16831  12665               12849  "
      ]
     },
     "execution_count": 24,
     "metadata": {},
     "output_type": "execute_result"
    }
   ],
   "source": [
    "df_sample[categorical_data].describe()"
   ]
  },
  {
   "cell_type": "markdown",
   "metadata": {},
   "source": [
    "### Pendidikan"
   ]
  },
  {
   "cell_type": "code",
   "execution_count": 29,
   "metadata": {},
   "outputs": [
    {
     "data": {
      "text/plain": [
       "Others     12909\n",
       "Sarjana     9725\n",
       "Name: Pendidikan, dtype: int64"
      ]
     },
     "execution_count": 29,
     "metadata": {},
     "output_type": "execute_result"
    }
   ],
   "source": [
    "df_sample['Pendidikan'].value_counts()"
   ]
  },
  {
   "cell_type": "markdown",
   "metadata": {},
   "source": [
    "## Mapping Pendidikan "
   ]
  },
  {
   "cell_type": "code",
   "execution_count": 33,
   "metadata": {},
   "outputs": [],
   "source": [
    "df_sample['Pendidikan'] = df_sample.Pendidikan.map({'Others':0 , 'Sarjana': 1})"
   ]
  },
  {
   "cell_type": "code",
   "execution_count": 36,
   "metadata": {},
   "outputs": [
    {
     "data": {
      "text/plain": [
       "0    12909\n",
       "1     9725\n",
       "Name: Pendidikan, dtype: int64"
      ]
     },
     "execution_count": 36,
     "metadata": {},
     "output_type": "execute_result"
    }
   ],
   "source": [
    "df_sample['Pendidikan'].value_counts()"
   ]
  },
  {
   "cell_type": "markdown",
   "metadata": {},
   "source": [
    "\n",
    "\n",
    "### Segmen"
   ]
  },
  {
   "cell_type": "code",
   "execution_count": 30,
   "metadata": {},
   "outputs": [
    {
     "data": {
      "text/plain": [
       "Jasa & Perdagangan    12849\n",
       "Others                 9785\n",
       "Name: Segmen, dtype: int64"
      ]
     },
     "execution_count": 30,
     "metadata": {},
     "output_type": "execute_result"
    }
   ],
   "source": [
    "df_sample['Segmen'].value_counts()"
   ]
  },
  {
   "cell_type": "markdown",
   "metadata": {},
   "source": [
    "### Mapping Segmen "
   ]
  },
  {
   "cell_type": "code",
   "execution_count": 37,
   "metadata": {},
   "outputs": [],
   "source": [
    "df_sample['Segmen'] = df_sample.Segmen.map({'Others':0 , 'Jasa & Perdagangan': 1})"
   ]
  },
  {
   "cell_type": "markdown",
   "metadata": {},
   "source": [
    "### Pekerjaan"
   ]
  },
  {
   "cell_type": "code",
   "execution_count": 32,
   "metadata": {},
   "outputs": [
    {
     "data": {
      "text/plain": [
       "Karyawan      11022\n",
       "Wiraswasta    10064\n",
       "Lainnya        1548\n",
       "Name: Pekerjaan, dtype: int64"
      ]
     },
     "execution_count": 32,
     "metadata": {},
     "output_type": "execute_result"
    }
   ],
   "source": [
    "df_sample['Pekerjaan'].value_counts()"
   ]
  },
  {
   "cell_type": "markdown",
   "metadata": {},
   "source": [
    "### Dummies Pekerjaan"
   ]
  },
  {
   "cell_type": "code",
   "execution_count": 38,
   "metadata": {},
   "outputs": [],
   "source": [
    "D_Pekerjaan = pd.get_dummies(df_sample['Pekerjaan'],prefix='Pekerjaan')"
   ]
  },
  {
   "cell_type": "code",
   "execution_count": 40,
   "metadata": {},
   "outputs": [
    {
     "data": {
      "text/html": [
       "<div>\n",
       "<style scoped>\n",
       "    .dataframe tbody tr th:only-of-type {\n",
       "        vertical-align: middle;\n",
       "    }\n",
       "\n",
       "    .dataframe tbody tr th {\n",
       "        vertical-align: top;\n",
       "    }\n",
       "\n",
       "    .dataframe thead th {\n",
       "        text-align: right;\n",
       "    }\n",
       "</style>\n",
       "<table border=\"1\" class=\"dataframe\">\n",
       "  <thead>\n",
       "    <tr style=\"text-align: right;\">\n",
       "      <th></th>\n",
       "      <th>Pekerjaan_Karyawan</th>\n",
       "      <th>Pekerjaan_Lainnya</th>\n",
       "      <th>Pekerjaan_Wiraswasta</th>\n",
       "    </tr>\n",
       "  </thead>\n",
       "  <tbody>\n",
       "    <tr>\n",
       "      <th>235</th>\n",
       "      <td>0</td>\n",
       "      <td>1</td>\n",
       "      <td>0</td>\n",
       "    </tr>\n",
       "    <tr>\n",
       "      <th>12172</th>\n",
       "      <td>1</td>\n",
       "      <td>0</td>\n",
       "      <td>0</td>\n",
       "    </tr>\n",
       "    <tr>\n",
       "      <th>5192</th>\n",
       "      <td>1</td>\n",
       "      <td>0</td>\n",
       "      <td>0</td>\n",
       "    </tr>\n",
       "    <tr>\n",
       "      <th>17289</th>\n",
       "      <td>1</td>\n",
       "      <td>0</td>\n",
       "      <td>0</td>\n",
       "    </tr>\n",
       "    <tr>\n",
       "      <th>10955</th>\n",
       "      <td>1</td>\n",
       "      <td>0</td>\n",
       "      <td>0</td>\n",
       "    </tr>\n",
       "  </tbody>\n",
       "</table>\n",
       "</div>"
      ],
      "text/plain": [
       "       Pekerjaan_Karyawan  Pekerjaan_Lainnya  Pekerjaan_Wiraswasta\n",
       "235                     0                  1                     0\n",
       "12172                   1                  0                     0\n",
       "5192                    1                  0                     0\n",
       "17289                   1                  0                     0\n",
       "10955                   1                  0                     0"
      ]
     },
     "execution_count": 40,
     "metadata": {},
     "output_type": "execute_result"
    }
   ],
   "source": [
    "D_Pekerjaan.head(5)"
   ]
  },
  {
   "cell_type": "markdown",
   "metadata": {},
   "source": [
    "### Drop Pekerjaan Karyawan"
   ]
  },
  {
   "cell_type": "code",
   "execution_count": 41,
   "metadata": {},
   "outputs": [],
   "source": [
    "D_Pekerjaan_Karyawan=D_Pekerjaan.drop(columns='Pekerjaan_Karyawan')"
   ]
  },
  {
   "cell_type": "code",
   "execution_count": 42,
   "metadata": {},
   "outputs": [
    {
     "data": {
      "text/html": [
       "<div>\n",
       "<style scoped>\n",
       "    .dataframe tbody tr th:only-of-type {\n",
       "        vertical-align: middle;\n",
       "    }\n",
       "\n",
       "    .dataframe tbody tr th {\n",
       "        vertical-align: top;\n",
       "    }\n",
       "\n",
       "    .dataframe thead th {\n",
       "        text-align: right;\n",
       "    }\n",
       "</style>\n",
       "<table border=\"1\" class=\"dataframe\">\n",
       "  <thead>\n",
       "    <tr style=\"text-align: right;\">\n",
       "      <th></th>\n",
       "      <th>Pekerjaan_Lainnya</th>\n",
       "      <th>Pekerjaan_Wiraswasta</th>\n",
       "    </tr>\n",
       "  </thead>\n",
       "  <tbody>\n",
       "    <tr>\n",
       "      <th>235</th>\n",
       "      <td>1</td>\n",
       "      <td>0</td>\n",
       "    </tr>\n",
       "    <tr>\n",
       "      <th>12172</th>\n",
       "      <td>0</td>\n",
       "      <td>0</td>\n",
       "    </tr>\n",
       "    <tr>\n",
       "      <th>5192</th>\n",
       "      <td>0</td>\n",
       "      <td>0</td>\n",
       "    </tr>\n",
       "    <tr>\n",
       "      <th>17289</th>\n",
       "      <td>0</td>\n",
       "      <td>0</td>\n",
       "    </tr>\n",
       "  </tbody>\n",
       "</table>\n",
       "</div>"
      ],
      "text/plain": [
       "       Pekerjaan_Lainnya  Pekerjaan_Wiraswasta\n",
       "235                    1                     0\n",
       "12172                  0                     0\n",
       "5192                   0                     0\n",
       "17289                  0                     0"
      ]
     },
     "execution_count": 42,
     "metadata": {},
     "output_type": "execute_result"
    }
   ],
   "source": [
    "D_Pekerjaan_Karyawan.head(4)"
   ]
  },
  {
   "cell_type": "code",
   "execution_count": 43,
   "metadata": {},
   "outputs": [],
   "source": [
    "df_sample=pd.concat([df_sample,D_Pekerjaan_Karyawan],axis=1)"
   ]
  },
  {
   "cell_type": "code",
   "execution_count": 45,
   "metadata": {},
   "outputs": [
    {
     "data": {
      "text/html": [
       "<div>\n",
       "<style scoped>\n",
       "    .dataframe tbody tr th:only-of-type {\n",
       "        vertical-align: middle;\n",
       "    }\n",
       "\n",
       "    .dataframe tbody tr th {\n",
       "        vertical-align: top;\n",
       "    }\n",
       "\n",
       "    .dataframe thead th {\n",
       "        text-align: right;\n",
       "    }\n",
       "</style>\n",
       "<table border=\"1\" class=\"dataframe\">\n",
       "  <thead>\n",
       "    <tr style=\"text-align: right;\">\n",
       "      <th></th>\n",
       "      <th>Kontrak</th>\n",
       "      <th>Tipe_Kendaraan</th>\n",
       "      <th>Pekerjaan</th>\n",
       "      <th>Area</th>\n",
       "      <th>Tenor</th>\n",
       "      <th>Bucket_Collectability</th>\n",
       "      <th>NPF</th>\n",
       "      <th>Total_AR</th>\n",
       "      <th>LTV</th>\n",
       "      <th>OTR</th>\n",
       "      <th>...</th>\n",
       "      <th>Tujuan</th>\n",
       "      <th>Pendidikan</th>\n",
       "      <th>Tanggungan</th>\n",
       "      <th>Status</th>\n",
       "      <th>Gender</th>\n",
       "      <th>Paket</th>\n",
       "      <th>Inflasi</th>\n",
       "      <th>Segmen</th>\n",
       "      <th>Pekerjaan_Lainnya</th>\n",
       "      <th>Pekerjaan_Wiraswasta</th>\n",
       "    </tr>\n",
       "  </thead>\n",
       "  <tbody>\n",
       "    <tr>\n",
       "      <th>235</th>\n",
       "      <td>236</td>\n",
       "      <td>MINIBUS</td>\n",
       "      <td>Lainnya</td>\n",
       "      <td>Sumatera</td>\n",
       "      <td>36</td>\n",
       "      <td>0 - 30 hari</td>\n",
       "      <td>Tidak</td>\n",
       "      <td>91.914886</td>\n",
       "      <td>46.96</td>\n",
       "      <td>171.10</td>\n",
       "      <td>...</td>\n",
       "      <td>Private</td>\n",
       "      <td>0</td>\n",
       "      <td>Ada</td>\n",
       "      <td>MENIKAH</td>\n",
       "      <td>Laki-laki</td>\n",
       "      <td>Ya</td>\n",
       "      <td>5.31</td>\n",
       "      <td>0</td>\n",
       "      <td>1</td>\n",
       "      <td>0</td>\n",
       "    </tr>\n",
       "    <tr>\n",
       "      <th>12172</th>\n",
       "      <td>12173</td>\n",
       "      <td>MINIBUS</td>\n",
       "      <td>Karyawan</td>\n",
       "      <td>Sumatera</td>\n",
       "      <td>48</td>\n",
       "      <td>0 - 30 hari</td>\n",
       "      <td>Tidak</td>\n",
       "      <td>164.112001</td>\n",
       "      <td>79.93</td>\n",
       "      <td>164.50</td>\n",
       "      <td>...</td>\n",
       "      <td>Private</td>\n",
       "      <td>0</td>\n",
       "      <td>Ada</td>\n",
       "      <td>OTHERS</td>\n",
       "      <td>Laki-laki</td>\n",
       "      <td>Tidak</td>\n",
       "      <td>3.35</td>\n",
       "      <td>0</td>\n",
       "      <td>0</td>\n",
       "      <td>0</td>\n",
       "    </tr>\n",
       "    <tr>\n",
       "      <th>5192</th>\n",
       "      <td>5193</td>\n",
       "      <td>TRUCK &amp; PICK UP</td>\n",
       "      <td>Karyawan</td>\n",
       "      <td>Jawa</td>\n",
       "      <td>48</td>\n",
       "      <td>&gt; 150 hari</td>\n",
       "      <td>Ya</td>\n",
       "      <td>357.342688</td>\n",
       "      <td>82.73</td>\n",
       "      <td>322.35</td>\n",
       "      <td>...</td>\n",
       "      <td>Others</td>\n",
       "      <td>1</td>\n",
       "      <td>Ada</td>\n",
       "      <td>OTHERS</td>\n",
       "      <td>Laki-laki</td>\n",
       "      <td>Tidak</td>\n",
       "      <td>5.31</td>\n",
       "      <td>1</td>\n",
       "      <td>0</td>\n",
       "      <td>0</td>\n",
       "    </tr>\n",
       "  </tbody>\n",
       "</table>\n",
       "<p>3 rows × 25 columns</p>\n",
       "</div>"
      ],
      "text/plain": [
       "       Kontrak   Tipe_Kendaraan Pekerjaan      Area  Tenor  \\\n",
       "235        236          MINIBUS   Lainnya  Sumatera     36   \n",
       "12172    12173          MINIBUS  Karyawan  Sumatera     48   \n",
       "5192      5193  TRUCK & PICK UP  Karyawan      Jawa     48   \n",
       "\n",
       "      Bucket_Collectability    NPF    Total_AR    LTV     OTR  ...   Tujuan  \\\n",
       "235             0 - 30 hari  Tidak   91.914886  46.96  171.10  ...  Private   \n",
       "12172           0 - 30 hari  Tidak  164.112001  79.93  164.50  ...  Private   \n",
       "5192             > 150 hari     Ya  357.342688  82.73  322.35  ...   Others   \n",
       "\n",
       "       Pendidikan  Tanggungan   Status     Gender  Paket  Inflasi Segmen  \\\n",
       "235             0         Ada  MENIKAH  Laki-laki     Ya     5.31      0   \n",
       "12172           0         Ada   OTHERS  Laki-laki  Tidak     3.35      0   \n",
       "5192            1         Ada   OTHERS  Laki-laki  Tidak     5.31      1   \n",
       "\n",
       "      Pekerjaan_Lainnya Pekerjaan_Wiraswasta  \n",
       "235                   1                    0  \n",
       "12172                 0                    0  \n",
       "5192                  0                    0  \n",
       "\n",
       "[3 rows x 25 columns]"
      ]
     },
     "execution_count": 45,
     "metadata": {},
     "output_type": "execute_result"
    }
   ],
   "source": [
    "df_sample.head(3)"
   ]
  },
  {
   "cell_type": "markdown",
   "metadata": {},
   "source": [
    "##  Impact  Pendidikan, Segmen, Pekerjaan of Total_AR"
   ]
  },
  {
   "cell_type": "code",
   "execution_count": 46,
   "metadata": {},
   "outputs": [],
   "source": [
    "import statsmodels.formula.api as smf"
   ]
  },
  {
   "cell_type": "code",
   "execution_count": 84,
   "metadata": {},
   "outputs": [],
   "source": [
    "ols_df_sample = smf.ols('np.log(Total_AR) ~ Pendidikan + Segmen + Pekerjaan_Lainnya + Pekerjaan_Wiraswasta', data=df_sample).fit()"
   ]
  },
  {
   "cell_type": "code",
   "execution_count": 85,
   "metadata": {},
   "outputs": [
    {
     "data": {
      "text/html": [
       "<table class=\"simpletable\">\n",
       "<caption>OLS Regression Results</caption>\n",
       "<tr>\n",
       "  <th>Dep. Variable:</th>    <td>np.log(Total_AR)</td> <th>  R-squared:         </th> <td>   0.023</td> \n",
       "</tr>\n",
       "<tr>\n",
       "  <th>Model:</th>                   <td>OLS</td>       <th>  Adj. R-squared:    </th> <td>   0.023</td> \n",
       "</tr>\n",
       "<tr>\n",
       "  <th>Method:</th>             <td>Least Squares</td>  <th>  F-statistic:       </th> <td>   133.9</td> \n",
       "</tr>\n",
       "<tr>\n",
       "  <th>Date:</th>             <td>Fri, 25 Oct 2019</td> <th>  Prob (F-statistic):</th> <td>3.25e-113</td>\n",
       "</tr>\n",
       "<tr>\n",
       "  <th>Time:</th>                 <td>18:02:46</td>     <th>  Log-Likelihood:    </th> <td> -12103.</td> \n",
       "</tr>\n",
       "<tr>\n",
       "  <th>No. Observations:</th>      <td> 22265</td>      <th>  AIC:               </th> <td>2.422e+04</td>\n",
       "</tr>\n",
       "<tr>\n",
       "  <th>Df Residuals:</th>          <td> 22260</td>      <th>  BIC:               </th> <td>2.426e+04</td>\n",
       "</tr>\n",
       "<tr>\n",
       "  <th>Df Model:</th>              <td>     4</td>      <th>                     </th>     <td> </td>    \n",
       "</tr>\n",
       "<tr>\n",
       "  <th>Covariance Type:</th>      <td>nonrobust</td>    <th>                     </th>     <td> </td>    \n",
       "</tr>\n",
       "</table>\n",
       "<table class=\"simpletable\">\n",
       "<tr>\n",
       "            <td></td>              <th>coef</th>     <th>std err</th>      <th>t</th>      <th>P>|t|</th>  <th>[0.025</th>    <th>0.975]</th>  \n",
       "</tr>\n",
       "<tr>\n",
       "  <th>Intercept</th>            <td>    5.2394</td> <td>    0.006</td> <td>  882.254</td> <td> 0.000</td> <td>    5.228</td> <td>    5.251</td>\n",
       "</tr>\n",
       "<tr>\n",
       "  <th>Pendidikan</th>           <td>   -0.0590</td> <td>    0.006</td> <td>   -9.913</td> <td> 0.000</td> <td>   -0.071</td> <td>   -0.047</td>\n",
       "</tr>\n",
       "<tr>\n",
       "  <th>Segmen</th>               <td>    0.0193</td> <td>    0.006</td> <td>    3.253</td> <td> 0.001</td> <td>    0.008</td> <td>    0.031</td>\n",
       "</tr>\n",
       "<tr>\n",
       "  <th>Pekerjaan_Lainnya</th>    <td>    0.0195</td> <td>    0.012</td> <td>    1.686</td> <td> 0.092</td> <td>   -0.003</td> <td>    0.042</td>\n",
       "</tr>\n",
       "<tr>\n",
       "  <th>Pekerjaan_Wiraswasta</th> <td>    0.0953</td> <td>    0.006</td> <td>   15.163</td> <td> 0.000</td> <td>    0.083</td> <td>    0.108</td>\n",
       "</tr>\n",
       "</table>\n",
       "<table class=\"simpletable\">\n",
       "<tr>\n",
       "  <th>Omnibus:</th>       <td>8185.640</td> <th>  Durbin-Watson:     </th> <td>   2.013</td> \n",
       "</tr>\n",
       "<tr>\n",
       "  <th>Prob(Omnibus):</th>  <td> 0.000</td>  <th>  Jarque-Bera (JB):  </th> <td>79407.705</td>\n",
       "</tr>\n",
       "<tr>\n",
       "  <th>Skew:</th>           <td>-1.491</td>  <th>  Prob(JB):          </th> <td>    0.00</td> \n",
       "</tr>\n",
       "<tr>\n",
       "  <th>Kurtosis:</th>       <td>11.758</td>  <th>  Cond. No.          </th> <td>    5.83</td> \n",
       "</tr>\n",
       "</table><br/><br/>Warnings:<br/>[1] Standard Errors assume that the covariance matrix of the errors is correctly specified."
      ],
      "text/plain": [
       "<class 'statsmodels.iolib.summary.Summary'>\n",
       "\"\"\"\n",
       "                            OLS Regression Results                            \n",
       "==============================================================================\n",
       "Dep. Variable:       np.log(Total_AR)   R-squared:                       0.023\n",
       "Model:                            OLS   Adj. R-squared:                  0.023\n",
       "Method:                 Least Squares   F-statistic:                     133.9\n",
       "Date:                Fri, 25 Oct 2019   Prob (F-statistic):          3.25e-113\n",
       "Time:                        18:02:46   Log-Likelihood:                -12103.\n",
       "No. Observations:               22265   AIC:                         2.422e+04\n",
       "Df Residuals:                   22260   BIC:                         2.426e+04\n",
       "Df Model:                           4                                         \n",
       "Covariance Type:            nonrobust                                         \n",
       "========================================================================================\n",
       "                           coef    std err          t      P>|t|      [0.025      0.975]\n",
       "----------------------------------------------------------------------------------------\n",
       "Intercept                5.2394      0.006    882.254      0.000       5.228       5.251\n",
       "Pendidikan              -0.0590      0.006     -9.913      0.000      -0.071      -0.047\n",
       "Segmen                   0.0193      0.006      3.253      0.001       0.008       0.031\n",
       "Pekerjaan_Lainnya        0.0195      0.012      1.686      0.092      -0.003       0.042\n",
       "Pekerjaan_Wiraswasta     0.0953      0.006     15.163      0.000       0.083       0.108\n",
       "==============================================================================\n",
       "Omnibus:                     8185.640   Durbin-Watson:                   2.013\n",
       "Prob(Omnibus):                  0.000   Jarque-Bera (JB):            79407.705\n",
       "Skew:                          -1.491   Prob(JB):                         0.00\n",
       "Kurtosis:                      11.758   Cond. No.                         5.83\n",
       "==============================================================================\n",
       "\n",
       "Warnings:\n",
       "[1] Standard Errors assume that the covariance matrix of the errors is correctly specified.\n",
       "\"\"\""
      ]
     },
     "execution_count": 85,
     "metadata": {},
     "output_type": "execute_result"
    }
   ],
   "source": [
    "ols_df_sample.summary()"
   ]
  },
  {
   "cell_type": "markdown",
   "metadata": {},
   "source": [
    "Rsquare is too small, we need to check outlier Total_AR"
   ]
  },
  {
   "cell_type": "code",
   "execution_count": 65,
   "metadata": {},
   "outputs": [
    {
     "data": {
      "text/plain": [
       "<matplotlib.axes._subplots.AxesSubplot at 0x19c47b00>"
      ]
     },
     "execution_count": 65,
     "metadata": {},
     "output_type": "execute_result"
    },
    {
     "data": {
      "image/png": "[encoded data removed]",
      "text/plain": [
       "<Figure size 432x288 with 1 Axes>"
      ]
     },
     "metadata": {
      "needs_background": "light"
     },
     "output_type": "display_data"
    }
   ],
   "source": [
    "df_sample.boxplot(column='Total_AR')"
   ]
  },
  {
   "cell_type": "markdown",
   "metadata": {},
   "source": [
    "## Finding and Drop Outlier Total_AR"
   ]
  },
  {
   "cell_type": "code",
   "execution_count": 69,
   "metadata": {},
   "outputs": [],
   "source": [
    "Q1_Total_AR = df_sample['Total_AR'].quantile(0.25)\n",
    "Q3_Total_AR = df_sample['Total_AR'].quantile(0.75)\n",
    "IQR_Total_AR = Q3_Total_AR - Q1_Total_AR"
   ]
  },
  {
   "cell_type": "code",
   "execution_count": 89,
   "metadata": {},
   "outputs": [],
   "source": [
    "df_outlier = df_sample[['Kontrak','Total_AR']][(df_sample.Total_AR < (Q1_Total_AR  -  1.5 * IQR_Total_AR)) |\n",
    "                             (df_sample.Total_AR   > (Q3_Total_AR  +  1.5 * IQR_Total_AR))].describe()"
   ]
  },
  {
   "cell_type": "code",
   "execution_count": 81,
   "metadata": {},
   "outputs": [
    {
     "data": {
      "text/plain": [
       "22265"
      ]
     },
     "execution_count": 81,
     "metadata": {},
     "output_type": "execute_result"
    }
   ],
   "source": [
    "# np.delete(df_sample,df_outlier.index,axis=0)\n",
    "df_sample.drop(index=df_outlier.index,inplace=True)\n",
    "len(df_sample)"
   ]
  },
  {
   "cell_type": "markdown",
   "metadata": {},
   "source": [
    "##  Impact  Pendidikan, Segmen, Pekerjaan of Total_AR after drop outlier Total_AR"
   ]
  },
  {
   "cell_type": "code",
   "execution_count": 83,
   "metadata": {},
   "outputs": [
    {
     "data": {
      "text/html": [
       "<table class=\"simpletable\">\n",
       "<caption>OLS Regression Results</caption>\n",
       "<tr>\n",
       "  <th>Dep. Variable:</th>    <td>np.log(Total_AR)</td> <th>  R-squared:         </th> <td>   0.023</td> \n",
       "</tr>\n",
       "<tr>\n",
       "  <th>Model:</th>                   <td>OLS</td>       <th>  Adj. R-squared:    </th> <td>   0.023</td> \n",
       "</tr>\n",
       "<tr>\n",
       "  <th>Method:</th>             <td>Least Squares</td>  <th>  F-statistic:       </th> <td>   133.9</td> \n",
       "</tr>\n",
       "<tr>\n",
       "  <th>Date:</th>             <td>Fri, 25 Oct 2019</td> <th>  Prob (F-statistic):</th> <td>3.25e-113</td>\n",
       "</tr>\n",
       "<tr>\n",
       "  <th>Time:</th>                 <td>18:02:33</td>     <th>  Log-Likelihood:    </th> <td> -12103.</td> \n",
       "</tr>\n",
       "<tr>\n",
       "  <th>No. Observations:</th>      <td> 22265</td>      <th>  AIC:               </th> <td>2.422e+04</td>\n",
       "</tr>\n",
       "<tr>\n",
       "  <th>Df Residuals:</th>          <td> 22260</td>      <th>  BIC:               </th> <td>2.426e+04</td>\n",
       "</tr>\n",
       "<tr>\n",
       "  <th>Df Model:</th>              <td>     4</td>      <th>                     </th>     <td> </td>    \n",
       "</tr>\n",
       "<tr>\n",
       "  <th>Covariance Type:</th>      <td>nonrobust</td>    <th>                     </th>     <td> </td>    \n",
       "</tr>\n",
       "</table>\n",
       "<table class=\"simpletable\">\n",
       "<tr>\n",
       "            <td></td>              <th>coef</th>     <th>std err</th>      <th>t</th>      <th>P>|t|</th>  <th>[0.025</th>    <th>0.975]</th>  \n",
       "</tr>\n",
       "<tr>\n",
       "  <th>Intercept</th>            <td>    5.2394</td> <td>    0.006</td> <td>  882.254</td> <td> 0.000</td> <td>    5.228</td> <td>    5.251</td>\n",
       "</tr>\n",
       "<tr>\n",
       "  <th>Pendidikan</th>           <td>   -0.0590</td> <td>    0.006</td> <td>   -9.913</td> <td> 0.000</td> <td>   -0.071</td> <td>   -0.047</td>\n",
       "</tr>\n",
       "<tr>\n",
       "  <th>Segmen</th>               <td>    0.0193</td> <td>    0.006</td> <td>    3.253</td> <td> 0.001</td> <td>    0.008</td> <td>    0.031</td>\n",
       "</tr>\n",
       "<tr>\n",
       "  <th>Pekerjaan_Lainnya</th>    <td>    0.0195</td> <td>    0.012</td> <td>    1.686</td> <td> 0.092</td> <td>   -0.003</td> <td>    0.042</td>\n",
       "</tr>\n",
       "<tr>\n",
       "  <th>Pekerjaan_Wiraswasta</th> <td>    0.0953</td> <td>    0.006</td> <td>   15.163</td> <td> 0.000</td> <td>    0.083</td> <td>    0.108</td>\n",
       "</tr>\n",
       "</table>\n",
       "<table class=\"simpletable\">\n",
       "<tr>\n",
       "  <th>Omnibus:</th>       <td>8185.640</td> <th>  Durbin-Watson:     </th> <td>   2.013</td> \n",
       "</tr>\n",
       "<tr>\n",
       "  <th>Prob(Omnibus):</th>  <td> 0.000</td>  <th>  Jarque-Bera (JB):  </th> <td>79407.705</td>\n",
       "</tr>\n",
       "<tr>\n",
       "  <th>Skew:</th>           <td>-1.491</td>  <th>  Prob(JB):          </th> <td>    0.00</td> \n",
       "</tr>\n",
       "<tr>\n",
       "  <th>Kurtosis:</th>       <td>11.758</td>  <th>  Cond. No.          </th> <td>    5.83</td> \n",
       "</tr>\n",
       "</table><br/><br/>Warnings:<br/>[1] Standard Errors assume that the covariance matrix of the errors is correctly specified."
      ],
      "text/plain": [
       "<class 'statsmodels.iolib.summary.Summary'>\n",
       "\"\"\"\n",
       "                            OLS Regression Results                            \n",
       "==============================================================================\n",
       "Dep. Variable:       np.log(Total_AR)   R-squared:                       0.023\n",
       "Model:                            OLS   Adj. R-squared:                  0.023\n",
       "Method:                 Least Squares   F-statistic:                     133.9\n",
       "Date:                Fri, 25 Oct 2019   Prob (F-statistic):          3.25e-113\n",
       "Time:                        18:02:33   Log-Likelihood:                -12103.\n",
       "No. Observations:               22265   AIC:                         2.422e+04\n",
       "Df Residuals:                   22260   BIC:                         2.426e+04\n",
       "Df Model:                           4                                         \n",
       "Covariance Type:            nonrobust                                         \n",
       "========================================================================================\n",
       "                           coef    std err          t      P>|t|      [0.025      0.975]\n",
       "----------------------------------------------------------------------------------------\n",
       "Intercept                5.2394      0.006    882.254      0.000       5.228       5.251\n",
       "Pendidikan              -0.0590      0.006     -9.913      0.000      -0.071      -0.047\n",
       "Segmen                   0.0193      0.006      3.253      0.001       0.008       0.031\n",
       "Pekerjaan_Lainnya        0.0195      0.012      1.686      0.092      -0.003       0.042\n",
       "Pekerjaan_Wiraswasta     0.0953      0.006     15.163      0.000       0.083       0.108\n",
       "==============================================================================\n",
       "Omnibus:                     8185.640   Durbin-Watson:                   2.013\n",
       "Prob(Omnibus):                  0.000   Jarque-Bera (JB):            79407.705\n",
       "Skew:                          -1.491   Prob(JB):                         0.00\n",
       "Kurtosis:                      11.758   Cond. No.                         5.83\n",
       "==============================================================================\n",
       "\n",
       "Warnings:\n",
       "[1] Standard Errors assume that the covariance matrix of the errors is correctly specified.\n",
       "\"\"\""
      ]
     },
     "execution_count": 83,
     "metadata": {},
     "output_type": "execute_result"
    }
   ],
   "source": [
    "ols_df_sample = smf.ols('np.log(Total_AR) ~ Pendidikan + Segmen + Pekerjaan_Lainnya + Pekerjaan_Wiraswasta', data=df_sample).fit()\n",
    "ols_df_sample.summary()"
   ]
  },
  {
   "cell_type": "markdown",
   "metadata": {},
   "source": [
    "R-square is not changed, still small:("
   ]
  },
  {
   "cell_type": "markdown",
   "metadata": {},
   "source": [
    "***"
   ]
  },
  {
   "cell_type": "code",
   "execution_count": 90,
   "metadata": {},
   "outputs": [
    {
     "data": {
      "text/plain": [
       "<matplotlib.axes._subplots.AxesSubplot at 0x1a7229b0>"
      ]
     },
     "execution_count": 90,
     "metadata": {},
     "output_type": "execute_result"
    },
    {
     "data": {
      "image/png": "[encoded data removed]",
      "text/plain": [
       "<Figure size 432x288 with 1 Axes>"
      ]
     },
     "metadata": {
      "needs_background": "light"
     },
     "output_type": "display_data"
    }
   ],
   "source": [
    "df_sample.boxplot(column='Total_AR')"
   ]
  },
  {
   "cell_type": "code",
   "execution_count": null,
   "metadata": {},
   "outputs": [],
   "source": []
  }
 ],
 "metadata": {
  "kernelspec": {
   "display_name": "Python 3",
   "language": "python",
   "name": "python3"
  },
  "language_info": {
   "codemirror_mode": {
    "name": "ipython",
    "version": 3
   },
   "file_extension": ".py",
   "mimetype": "text/x-python",
   "name": "python",
   "nbconvert_exporter": "python",
   "pygments_lexer": "ipython3",
   "version": "3.7.3"
  }
 },
 "nbformat": 4,
 "nbformat_minor": 2
}
